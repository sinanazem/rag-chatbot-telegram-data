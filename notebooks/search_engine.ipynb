{
 "cells": [
  {
   "cell_type": "markdown",
   "metadata": {},
   "source": [
    "# Read Data"
   ]
  },
  {
   "cell_type": "code",
   "execution_count": 8,
   "metadata": {},
   "outputs": [
    {
     "name": "stdout",
     "output_type": "stream",
     "text": [
      "[{'date': '2021-07-05T23:27:05',\n",
      "  'date_unixtime': '1625515025',\n",
      "  'edited': '2021-07-05T23:27:11',\n",
      "  'edited_unixtime': '1625515031',\n",
      "  'from': 'hwsyn.si',\n",
      "  'from_id': 'user1347413561',\n",
      "  'id': 18,\n",
      "  'text': 'تو سایت مکتبخونه هم برید ویدیو درک برنامه نویسی جادی موجوده',\n",
      "  'text_entities': [{'text': 'تو سایت مکتبخونه هم برید ویدیو درک برنامه نویسی '\n",
      "                             'جادی موجوده',\n",
      "                     'type': 'plain'}],\n",
      "  'type': 'message'},\n",
      " {'date': '2021-07-05T23:27:27',\n",
      "  'date_unixtime': '1625515047',\n",
      "  'from': None,\n",
      "  'from_id': 'user1032403991',\n",
      "  'id': 23,\n",
      "  'text': [{'text': 'https://youtube.com/playlist?list=PL-tKrPVkKKE1Y_o_h2w85dzVdoX5t7SI0',\n",
      "            'type': 'link'}],\n",
      "  'text_entities': [{'text': 'https://youtube.com/playlist?list=PL-tKrPVkKKE1Y_o_h2w85dzVdoX5t7SI0',\n",
      "                     'type': 'link'}],\n",
      "  'type': 'message'},\n",
      " {'date': '2021-07-05T23:27:41',\n",
      "  'date_unixtime': '1625515061',\n",
      "  'from': 'Sobhan Razyani',\n",
      "  'from_id': 'user72383515',\n",
      "  'id': 25,\n",
      "  'text': 'ممنونم دوستان',\n",
      "  'text_entities': [{'text': 'ممنونم دوستان', 'type': 'plain'}],\n",
      "  'type': 'message'}]\n"
     ]
    }
   ],
   "source": [
    "import json\n",
    "from pprint import pprint\n",
    "\n",
    "# Correct way to load JSON data from a file\n",
    "file_path = \"../data/sample.json\"\n",
    "try:\n",
    "    with open(file_path, 'r') as file:\n",
    "        data = json.load(file)\n",
    "        pprint(data)\n",
    "except FileNotFoundError:\n",
    "    pprint(f\"File not found: {file_path}\")\n",
    "except json.JSONDecodeError as e:\n",
    "    pprint(f\"Error decoding JSON from file {file_path}: {e}\")"
   ]
  },
  {
   "cell_type": "code",
   "execution_count": null,
   "metadata": {},
   "outputs": [],
   "source": []
  }
 ],
 "metadata": {
  "kernelspec": {
   "display_name": "gen_ai",
   "language": "python",
   "name": "python3"
  },
  "language_info": {
   "codemirror_mode": {
    "name": "ipython",
    "version": 3
   },
   "file_extension": ".py",
   "mimetype": "text/x-python",
   "name": "python",
   "nbconvert_exporter": "python",
   "pygments_lexer": "ipython3",
   "version": "3.10.14"
  }
 },
 "nbformat": 4,
 "nbformat_minor": 2
}
