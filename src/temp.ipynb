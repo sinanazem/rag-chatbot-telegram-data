{
 "cells": [
  {
   "cell_type": "code",
   "execution_count": 1,
   "metadata": {},
   "outputs": [],
   "source": [
    "from src.search_engine.index_search import process_query\n",
    "from src.mongo_analytics.load import fetch_data_from_mongodb\n",
    "from src.search_engine.indexsearch import process_query\n",
    "import json\n",
    "\n",
    "\n",
    "def query_streamlit(user_query, uri, database_name, collection_name, query_db={}):\n",
    "\n",
    "    data = fetch_data_from_mongodb(uri, database_name, collection_name, query_db)\n",
    "    \n",
    "    with open(\"/mnt/c/Users/user/OneDrive/Desktop/rag-chatbot-telegram-data/src/search_engine/data/pre_processed_telegram_data.json\", 'r') as f:\n",
    "        pre_processed_data = json.load(f)\n",
    "    \n",
    "    with open(\"/mnt/c/Users/user/OneDrive/Desktop/rag-chatbot-telegram-data/src/search_engine/index_dir/index.json\", 'r') as f:\n",
    "        index = json.load(f)\n",
    "        \n",
    "    match_search_id_list = process_query(user_query)\n",
    "    \n",
    "    def find_msg(msg_id_list):\n",
    "        for data_dict in data:\n",
    "            if str(data_dict[\"id\"]) in msg_id_list:\n",
    "                print({\"From\": data_dict['from'], \"Date\":data_dict['date'], \"Text\":data_dict['text']})\n",
    "                \n",
    "    return find_msg(match_search_id_list)"
   ]
  },
  {
   "cell_type": "code",
   "execution_count": null,
   "metadata": {},
   "outputs": [],
   "source": []
  },
  {
   "cell_type": "code",
   "execution_count": null,
   "metadata": {},
   "outputs": [],
   "source": []
  }
 ],
 "metadata": {
  "kernelspec": {
   "display_name": "gen_ai",
   "language": "python",
   "name": "python3"
  },
  "language_info": {
   "codemirror_mode": {
    "name": "ipython",
    "version": 3
   },
   "file_extension": ".py",
   "mimetype": "text/x-python",
   "name": "python",
   "nbconvert_exporter": "python",
   "pygments_lexer": "ipython3",
   "version": "3.10.14"
  }
 },
 "nbformat": 4,
 "nbformat_minor": 2
}
